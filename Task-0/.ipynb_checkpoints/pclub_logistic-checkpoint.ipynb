{
 "cells": [
  {
   "cell_type": "code",
   "execution_count": 1,
   "id": "b5b6e10e",
   "metadata": {},
   "outputs": [],
   "source": [
    "import numpy as np\n",
    "import pandas as pd\n",
    "import matplotlib.pyplot as plt\n",
    "import math as mt"
   ]
  },
  {
   "cell_type": "code",
   "execution_count": null,
   "id": "5afef139",
   "metadata": {},
   "outputs": [],
   "source": [
    "df = pd.read_csv(\"diabetes2.csv\")\n",
    "df"
   ]
  },
  {
   "cell_type": "code",
   "execution_count": null,
   "id": "622a3998",
   "metadata": {},
   "outputs": [],
   "source": [
    "cnt = [0]*18\n",
    "for i in range(0, len(df)):\n",
    "    cnt[df.iloc[i,0]] += 1\n",
    "\n",
    "cnt"
   ]
  },
  {
   "cell_type": "code",
   "execution_count": null,
   "id": "a87459ad",
   "metadata": {},
   "outputs": [],
   "source": [
    "x_value = np.asarray(df['Pregnancies'])\n",
    "y_value = np.asarray(df['Outcome'])\n",
    "\n",
    "plt.figure(figsize=(8, 6), dpi=80)\n",
    "\n",
    "plt.plot(x_value, y_value)\n",
    "plt.show()"
   ]
  },
  {
   "cell_type": "code",
   "execution_count": null,
   "id": "ea3e2812",
   "metadata": {},
   "outputs": [],
   "source": [
    "x_value_1 = np.asarray(df['Insulin'])\n",
    "y_value_1 = np.asarray(df['Outcome'])\n",
    "\n",
    "plt.figure(figsize=(8, 6), dpi=80)\n",
    "\n",
    "plt.plot(x_value_1, y_value_1)\n",
    "plt.show()"
   ]
  },
  {
   "cell_type": "code",
   "execution_count": null,
   "id": "e6ff1fa6",
   "metadata": {},
   "outputs": [],
   "source": [
    "X = np.asarray(df[['Pregnancies', 'Glucose', 'BloodPressure', 'SkinThickness', 'Insulin', 'BMI', 'DiabetesPedigreeFunction', 'Age']])\n",
    "X[0:5]"
   ]
  },
  {
   "cell_type": "code",
   "execution_count": null,
   "id": "1bf288fd",
   "metadata": {},
   "outputs": [],
   "source": [
    "Y = np.asarray(df['Outcome'])\n",
    "Y[0:5]"
   ]
  },
  {
   "cell_type": "code",
   "execution_count": null,
   "id": "b8d17105",
   "metadata": {},
   "outputs": [],
   "source": [
    "print(X.shape)\n",
    "print(Y.shape)\n",
    "print(int(Y[0]==0))\n",
    "print(X[0][0])"
   ]
  },
  {
   "cell_type": "code",
   "execution_count": null,
   "id": "0cb7cb0b",
   "metadata": {},
   "outputs": [],
   "source": [
    "np.random.seed(0)\n",
    "from sklearn.model_selection import train_test_split\n",
    "X_train, X_test, Y_train, Y_test = train_test_split(X, Y, test_size = 0.2)\n",
    "print('Train set : ', X_train.shape, Y_train.shape)\n",
    "print('Test set : ', X_test.shape, Y_test.shape)"
   ]
  },
  {
   "cell_type": "code",
   "execution_count": null,
   "id": "ee4a30b7",
   "metadata": {},
   "outputs": [],
   "source": [
    "#Weights = np.array([0.0001,0.0001,0.0001,0.0001,0.0001,0.0001,0.0001,0.0001,0.0001])\n",
    "X_train"
   ]
  },
  {
   "cell_type": "code",
   "execution_count": null,
   "id": "32a4a652",
   "metadata": {},
   "outputs": [],
   "source": [
    "X_train = np.insert(X_train, 8, 1, axis = 1)\n",
    "X_train"
   ]
  },
  {
   "cell_type": "code",
   "execution_count": null,
   "id": "0b21745f",
   "metadata": {},
   "outputs": [],
   "source": [
    "def predict(X, W):\n",
    "    Y = np.dot(X,W)\n",
    "    for i in range(0,Y.shape[0]):\n",
    "        Y[i] = 1/(1 + np.exp(-Y[i]))\n",
    "        #print(Y[i], end = \" \")\n",
    "    \n",
    "    return Y"
   ]
  },
  {
   "cell_type": "code",
   "execution_count": null,
   "id": "5f9a355c",
   "metadata": {},
   "outputs": [],
   "source": [
    "def log_loss(Y, y):\n",
    "    n = Y.shape[0]\n",
    "    loss = 0\n",
    "    for i in range(0,n):\n",
    "        loss += (-Y[i]*np.log(y[i]) - (1 - Y[i])*np.log(1 - y[i]))/n\n",
    "    \n",
    "    return loss"
   ]
  },
  {
   "cell_type": "code",
   "execution_count": null,
   "id": "be7fa123",
   "metadata": {},
   "outputs": [],
   "source": [
    "def accuracy(Y, y):\n",
    "    correct = 0\n",
    "    total = Y.shape[0]\n",
    "    for i in range(0,total):\n",
    "        if Y[i]==1 and y[i] >= 0.5:\n",
    "            correct += 1\n",
    "        elif Y[i]==0 and y[i] < 0.5:\n",
    "            correct += 1\n",
    "    \n",
    "    return correct/total"
   ]
  },
  {
   "cell_type": "code",
   "execution_count": null,
   "id": "3810abd3",
   "metadata": {},
   "outputs": [],
   "source": [
    "'''\n",
    "def gradient(X, y):\n",
    "    n = y.shape[0]\n",
    "    #print(n)\n",
    "    grad = np.zeros(9)\n",
    "    for i in range(0,9):\n",
    "        for j in range(0,n):\n",
    "            \n",
    "            if i==8:\n",
    "                grad[i] += y[j]*(1 - y[j])\n",
    "            else:\n",
    "                grad[i] += y[j]*(1 - y[j])*X[j][i]\n",
    "                \n",
    "        grad[i] = grad[i]/n;\n",
    "    \n",
    "    return grad;\n",
    "'''\n",
    "\n",
    "def gradient(X, Y, y):\n",
    "    n = y.shape[0]\n",
    "    \n",
    "    grad = np.dot(X.T, y - Y)\n",
    "    grad = grad*(1/n)\n",
    "    \n",
    "    return grad"
   ]
  },
  {
   "cell_type": "code",
   "execution_count": null,
   "id": "eee39fea",
   "metadata": {},
   "outputs": [],
   "source": [
    "def gradient_descent(X, Y, W, y):\n",
    "    grad = gradient(X, Y, y)\n",
    "    \n",
    "    grad = grad / np.linalg.norm(grad)\n",
    "    W = W - learn_rate*grad\n",
    "    \n",
    "    return W"
   ]
  },
  {
   "cell_type": "code",
   "execution_count": null,
   "id": "e6de9dbf",
   "metadata": {},
   "outputs": [],
   "source": [
    "def AdaGrad(g, G_prev, G_pres, W):\n",
    "    temp = G_pres\n",
    "    G_pres = G_prev + np.square(g)\n",
    "    \n",
    "    for i in range(0,9):\n",
    "        W[i] = W[i] - (learn_rate / mt.sqrt(G_pres[i] + epsilon))*g[i]\n",
    "    \n",
    "    return W, G_pres, temp"
   ]
  },
  {
   "cell_type": "code",
   "execution_count": null,
   "id": "9573af66",
   "metadata": {},
   "outputs": [],
   "source": [
    "def RMSprop(g, G_prev, G_pres, W):\n",
    "    temp = G_pres\n",
    "    G_pres = alpha*G_prev + (1-alpha)*np.square(g)\n",
    "    \n",
    "    for i in range(0,9):\n",
    "        W[i] = W[i] - (learn_rate / (mt.sqrt(G_pres[i]) + epsilon))*g[i]\n",
    "    \n",
    "    return W, G_pres, temp"
   ]
  },
  {
   "cell_type": "code",
   "execution_count": null,
   "id": "45c4a648",
   "metadata": {},
   "outputs": [],
   "source": [
    "Weights = np.array([0.001,0.001,0.001,0.001,0.001,0.001,0.001,0.001,0.001])"
   ]
  },
  {
   "cell_type": "code",
   "execution_count": null,
   "id": "80e59883",
   "metadata": {},
   "outputs": [],
   "source": [
    "Weights.shape\n"
   ]
  },
  {
   "cell_type": "code",
   "execution_count": null,
   "id": "a8eee13e",
   "metadata": {},
   "outputs": [],
   "source": [
    "yash = np.dot(X_train, Weights)\n",
    "np.exp(yash[0])"
   ]
  },
  {
   "cell_type": "code",
   "execution_count": null,
   "id": "96e1f4b1",
   "metadata": {},
   "outputs": [],
   "source": [
    "Y_pred = predict(X_train, Weights)\n",
    "Y_pred"
   ]
  },
  {
   "cell_type": "code",
   "execution_count": null,
   "id": "d278b839",
   "metadata": {},
   "outputs": [],
   "source": [
    "log_loss(Y_train, Y_pred)"
   ]
  },
  {
   "cell_type": "code",
   "execution_count": null,
   "id": "c2339cb6",
   "metadata": {},
   "outputs": [],
   "source": [
    "accuracy(Y_train,  Y_pred)"
   ]
  },
  {
   "cell_type": "code",
   "execution_count": null,
   "id": "866b7864",
   "metadata": {},
   "outputs": [],
   "source": [
    "g = gradient(X_train, Y_pred)\n",
    "#print(Y_pred.shape)\n",
    "g"
   ]
  },
  {
   "cell_type": "code",
   "execution_count": null,
   "id": "5b751fe7",
   "metadata": {},
   "outputs": [],
   "source": [
    "g = g / np.linalg.norm(g)\n",
    "g"
   ]
  },
  {
   "cell_type": "code",
   "execution_count": null,
   "id": "43c43f91",
   "metadata": {},
   "outputs": [],
   "source": [
    "learn_rate = 0.01\n",
    "#gradient_descent(X_train, Weights, Y_pred )"
   ]
  },
  {
   "cell_type": "code",
   "execution_count": null,
   "id": "5298174f",
   "metadata": {},
   "outputs": [],
   "source": [
    "#opening a file to write the losses and accuracies \n",
    "\n",
    "file = open('pclub_output.txt', 'w')\n",
    "L = []"
   ]
  },
  {
   "cell_type": "code",
   "execution_count": null,
   "id": "98609a82",
   "metadata": {},
   "outputs": [],
   "source": [
    "Weights.fill(0.001)\n",
    "loss = 10000000\n",
    "acc = 0\n",
    "counter = 1\n",
    "learn_rate = 0.01\n",
    "epsilon = 0.0001\n",
    "alpha = 0.9\n",
    "\n",
    "losses = []\n",
    "accuracies = []\n",
    "counts = []\n",
    "\n",
    "G_prev = np.zeros(9)\n",
    "G_pres = np.zeros(9)\n",
    "\n",
    "while counter <= 30000 :\n",
    "    \n",
    "    #print(counter)\n",
    "    \n",
    "    Y_pred = predict(X_train, Weights)\n",
    "    \n",
    "    loss = log_loss(Y_train, Y_pred)\n",
    "    \n",
    "    acc = accuracy(Y_train, Y_pred)\n",
    "    \n",
    "    L.append(\"Epoch \" + str(counter) + \" : (\" + \"Loss: \" + str(loss) + \", Correctness: \" + str(acc) + \")\" )\n",
    "    \n",
    "    \n",
    "    Weights = gradient_descent(X_train, Y_train, Weights, Y_pred)\n",
    "    \n",
    "    #g = gradient(X_train, Y_train, Y_pred)\n",
    "    #Weights, G_pres, G_prev = RMSprop(g, G_prev, G_pres, Weights)\n",
    "    \n",
    "    if counter%100 == 0:\n",
    "        losses.append(loss)\n",
    "        accuracies.append(acc)\n",
    "        counts.append(counter)\n",
    "    \n",
    "    if counter%1000 == 0 and counter >= 20000:\n",
    "        print(\"Epoch \" + str(counter) + \" : (\" + \"Loss: \" + str(loss) + \", Correctness: \" + str(acc) + \")\" )\n",
    "        \n",
    "        plt.figure(figsize=(8, 6), dpi=80)\n",
    "        \n",
    "        plt.plot(counts, losses, color = 'red', marker = \"o\")\n",
    "        plt.plot(counts, accuracies, color = 'blue', marker = \"*\")\n",
    "        \n",
    "        plt.title(\"Loss & Accuracy v/s No. of iterations\")\n",
    "        plt.xlabel(\"Counter\")\n",
    "        plt.ylabel(\"Entity\")\n",
    "    \n",
    "    counter += 1\n",
    "    "
   ]
  },
  {
   "cell_type": "code",
   "execution_count": null,
   "id": "d248bee4",
   "metadata": {},
   "outputs": [],
   "source": [
    "for line in L:\n",
    "    file.write(line + \"\\n\")"
   ]
  },
  {
   "cell_type": "code",
   "execution_count": null,
   "id": "fb8582de",
   "metadata": {},
   "outputs": [],
   "source": [
    "X_test = np.insert(X_test, 8, 1, axis = 1)\n",
    "X_test"
   ]
  },
  {
   "cell_type": "code",
   "execution_count": null,
   "id": "25bb1a06",
   "metadata": {},
   "outputs": [],
   "source": [
    "Y_test_pred = predict(X_test, Weights)\n",
    "Y_test_pred"
   ]
  },
  {
   "cell_type": "code",
   "execution_count": null,
   "id": "180fb48e",
   "metadata": {},
   "outputs": [],
   "source": [
    "log_loss(Y_test, Y_test_pred)"
   ]
  },
  {
   "cell_type": "code",
   "execution_count": null,
   "id": "01d6e234",
   "metadata": {},
   "outputs": [],
   "source": [
    "accuracy(Y_test, Y_test_pred)"
   ]
  },
  {
   "cell_type": "code",
   "execution_count": null,
   "id": "548a4270",
   "metadata": {},
   "outputs": [],
   "source": []
  }
 ],
 "metadata": {
  "kernelspec": {
   "display_name": "Python 3",
   "language": "python",
   "name": "python3"
  },
  "language_info": {
   "codemirror_mode": {
    "name": "ipython",
    "version": 3
   },
   "file_extension": ".py",
   "mimetype": "text/x-python",
   "name": "python",
   "nbconvert_exporter": "python",
   "pygments_lexer": "ipython3",
   "version": "3.9.5"
  }
 },
 "nbformat": 4,
 "nbformat_minor": 5
}
